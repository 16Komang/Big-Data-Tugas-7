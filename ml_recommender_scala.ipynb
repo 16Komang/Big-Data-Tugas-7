{
  "nbformat": 4,
  "nbformat_minor": 0,
  "metadata": {
    "colab": {
      "provenance": [],
      "authorship_tag": "ABX9TyPCB4UyeD7KKT2yyBhndSdC",
      "include_colab_link": true
    },
    "kernelspec": {
      "name": "python3",
      "display_name": "Python 3"
    },
    "language_info": {
      "name": "python"
    }
  },
  "cells": [
    {
      "cell_type": "markdown",
      "metadata": {
        "id": "view-in-github",
        "colab_type": "text"
      },
      "source": [
        "<a href=\"https://colab.research.google.com/github/16Komang/Big-Data-Tugas-7/blob/main/ml_recommender_scala.ipynb\" target=\"_parent\"><img src=\"https://colab.research.google.com/assets/colab-badge.svg\" alt=\"Open In Colab\"/></a>"
      ]
    },
    {
      "cell_type": "code",
      "execution_count": 1,
      "metadata": {
        "colab": {
          "base_uri": "https://localhost:8080/"
        },
        "id": "wGVhTWEJkcMa",
        "outputId": "a624fbcc-21c9-4d9c-c290-2ee244d41f5d"
      },
      "outputs": [
        {
          "output_type": "stream",
          "name": "stdout",
          "text": [
            "Mounted at /content/drive\n"
          ]
        }
      ],
      "source": [
        "from google.colab import drive\n",
        "drive.mount('/content/drive')"
      ]
    },
    {
      "cell_type": "code",
      "source": [
        "import os\n",
        "os.system(\"rm -rf /content/ml-predictions.csv\")\n",
        "os.system(\"rm -rf /content/mymodel\")"
      ],
      "metadata": {
        "colab": {
          "base_uri": "https://localhost:8080/"
        },
        "id": "Fw24Eqk9kkPp",
        "outputId": "a02027b9-253f-4c4f-f754-1d48ff50b85b"
      },
      "execution_count": 2,
      "outputs": [
        {
          "output_type": "execute_result",
          "data": {
            "text/plain": [
              "0"
            ]
          },
          "metadata": {},
          "execution_count": 2
        }
      ]
    },
    {
      "cell_type": "code",
      "source": [
        "!pip install pyspark"
      ],
      "metadata": {
        "colab": {
          "base_uri": "https://localhost:8080/"
        },
        "id": "RdxY3sujktTi",
        "outputId": "f8eba275-8dae-45b8-c785-7dd1ce84395e"
      },
      "execution_count": 3,
      "outputs": [
        {
          "output_type": "stream",
          "name": "stdout",
          "text": [
            "Looking in indexes: https://pypi.org/simple, https://us-python.pkg.dev/colab-wheels/public/simple/\n",
            "Collecting pyspark\n",
            "  Downloading pyspark-3.4.0.tar.gz (310.8 MB)\n",
            "\u001b[2K     \u001b[90m━━━━━━━━━━━━━━━━━━━━━━━━━━━━━━━━━━━━━━━\u001b[0m \u001b[32m310.8/310.8 MB\u001b[0m \u001b[31m3.5 MB/s\u001b[0m eta \u001b[36m0:00:00\u001b[0m\n",
            "\u001b[?25h  Preparing metadata (setup.py) ... \u001b[?25l\u001b[?25hdone\n",
            "Requirement already satisfied: py4j==0.10.9.7 in /usr/local/lib/python3.10/dist-packages (from pyspark) (0.10.9.7)\n",
            "Building wheels for collected packages: pyspark\n",
            "  Building wheel for pyspark (setup.py) ... \u001b[?25l\u001b[?25hdone\n",
            "  Created wheel for pyspark: filename=pyspark-3.4.0-py2.py3-none-any.whl size=311317130 sha256=25b73cb4be47e7570606e159ffd21849b502b874d2c99e3e74517fd1b55df8a6\n",
            "  Stored in directory: /root/.cache/pip/wheels/7b/1b/4b/3363a1d04368e7ff0d408e57ff57966fcdf00583774e761327\n",
            "Successfully built pyspark\n",
            "Installing collected packages: pyspark\n",
            "Successfully installed pyspark-3.4.0\n"
          ]
        }
      ]
    },
    {
      "cell_type": "code",
      "source": [
        "from pyspark.ml.recommendation import ALS\n",
        "from pyspark.sql import SparkSession\n",
        "from pyspark.sql.functions import isnan, isnull"
      ],
      "metadata": {
        "id": "UjIoxwYykq5O"
      },
      "execution_count": 4,
      "outputs": []
    },
    {
      "cell_type": "code",
      "source": [
        "spark = SparkSession.builder.getOrCreate()\n",
        "\n",
        "# Define the Rating class\n",
        "class Rating:\n",
        "    def __init__(self, userId, movieId, rating, timestamp):\n",
        "        self.userId = userId\n",
        "        self.movieId = movieId\n",
        "        self.rating = rating\n",
        "        self.timestamp = timestamp\n",
        "\n",
        "# Define the parseRating function\n",
        "def parseRating(str):\n",
        "    fields = str.split(\"::\")\n",
        "    assert len(fields) == 4\n",
        "    return Rating(int(fields[0]), int(fields[1]), float(fields[2]), int(fields[3]))\n",
        "\n",
        "# Test the parseRating function\n",
        "parseRating(\"1::1193::5::978300760\")\n",
        "\n",
        "# Load the raw data\n",
        "raw = spark.sparkContext.textFile(\"/content/drive/MyDrive/Big data/ml-1m/ratings.dat\")\n",
        "\n",
        "# Check one record\n",
        "raw.take(1)"
      ],
      "metadata": {
        "colab": {
          "base_uri": "https://localhost:8080/"
        },
        "id": "fQOqaGjPk4V1",
        "outputId": "8b2dd160-01da-4645-fa11-6d3d7e388517"
      },
      "execution_count": 5,
      "outputs": [
        {
          "output_type": "execute_result",
          "data": {
            "text/plain": [
              "['1::1193::5::978300760']"
            ]
          },
          "metadata": {},
          "execution_count": 5
        }
      ]
    },
    {
      "cell_type": "code",
      "source": [
        "# Parse the ratings and create a DataFrame\n",
        "ratings = raw.map(parseRating).toDF()\n",
        "\n",
        "# Check the ratings DataFrame\n",
        "ratings.show(5)\n",
        "\n",
        "# Split the data into training and test sets\n",
        "training, test = ratings.randomSplit([0.8, 0.2])\n",
        "\n",
        "# Build the recommendation model using ALS\n",
        "als = ALS(maxIter=5, regParam=0.01, userCol=\"userId\", itemCol=\"movieId\", ratingCol=\"rating\")\n",
        "model = als.fit(training)\n",
        "\n",
        "# Save the model\n",
        "model.save(\"mymodel\")"
      ],
      "metadata": {
        "colab": {
          "base_uri": "https://localhost:8080/"
        },
        "id": "uCMFJ3wEk5B-",
        "outputId": "ebedcbd3-020d-4e72-ae76-20851bbfb5d8"
      },
      "execution_count": 6,
      "outputs": [
        {
          "output_type": "stream",
          "name": "stdout",
          "text": [
            "+-------+------+---------+------+\n",
            "|movieId|rating|timestamp|userId|\n",
            "+-------+------+---------+------+\n",
            "|   1193|   5.0|978300760|     1|\n",
            "|    661|   3.0|978302109|     1|\n",
            "|    914|   3.0|978301968|     1|\n",
            "|   3408|   4.0|978300275|     1|\n",
            "|   2355|   5.0|978824291|     1|\n",
            "+-------+------+---------+------+\n",
            "only showing top 5 rows\n",
            "\n"
          ]
        }
      ]
    },
    {
      "cell_type": "code",
      "source": [
        "# Generate predictions on the test set\n",
        "predictions = model.transform(test)\n",
        "\n",
        "# Calculate the root mean square error (RMSE)\n",
        "squared_error = predictions.withColumn(\"error\", (predictions[\"rating\"] - predictions[\"prediction\"])**2)\n",
        "\n",
        "valid_squared_error = squared_error.filter(~isnull(squared_error[\"error\"]) & ~isnan(squared_error[\"error\"]))\n",
        "\n",
        "rmse = valid_squared_error.select(\"error\").agg({\"error\": \"mean\"}).collect()[0][0] ** 0.5\n",
        "print(\"RMSE: \", rmse)\n",
        "\n",
        "# Show the first 10 predictions\n",
        "predictions.show(10)\n",
        "\n",
        "# Save the predictions as a CSV file\n",
        "predictions.select(\"userId\", \"movieId\", \"rating\", \"prediction\").write.csv(\"ml-predictions.csv\")"
      ],
      "metadata": {
        "colab": {
          "base_uri": "https://localhost:8080/"
        },
        "id": "Nq9RJTbjlHb3",
        "outputId": "45ce375e-cb57-428c-ccc2-48ac01ff26ca"
      },
      "execution_count": 7,
      "outputs": [
        {
          "output_type": "stream",
          "name": "stdout",
          "text": [
            "RMSE:  0.8986796063562732\n",
            "+-------+------+----------+------+----------+\n",
            "|movieId|rating| timestamp|userId|prediction|\n",
            "+-------+------+----------+------+----------+\n",
            "|      1|   2.0|1002083483|   482| 3.7928982|\n",
            "|      1|   2.0| 976214774|   491|  3.668443|\n",
            "|      1|   2.0| 975196744|  1150|  2.918355|\n",
            "|      1|   2.0| 974863438|  1167| 3.9370117|\n",
            "|      1|   2.0| 974760465|  1434| 2.0482757|\n",
            "|      1|   2.0| 983746388|  1710|  4.198209|\n",
            "|      1|   2.0| 975812971|  2195| 3.1201231|\n",
            "|      1|   2.0| 974602476|  2221| 4.4824157|\n",
            "|      1|   3.0| 972779019|  2807| 3.5447724|\n",
            "|      1|   2.0| 972057552|  2888| 3.8574185|\n",
            "+-------+------+----------+------+----------+\n",
            "only showing top 10 rows\n",
            "\n"
          ]
        }
      ]
    }
  ]
}