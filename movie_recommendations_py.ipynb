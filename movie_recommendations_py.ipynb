{
  "nbformat": 4,
  "nbformat_minor": 0,
  "metadata": {
    "colab": {
      "provenance": [],
      "authorship_tag": "ABX9TyMb7dbbrIpN04SaLTQTl5ss",
      "include_colab_link": true
    },
    "kernelspec": {
      "name": "python3",
      "display_name": "Python 3"
    },
    "language_info": {
      "name": "python"
    }
  },
  "cells": [
    {
      "cell_type": "markdown",
      "metadata": {
        "id": "view-in-github",
        "colab_type": "text"
      },
      "source": [
        "<a href=\"https://colab.research.google.com/github/16Komang/Big-Data-Tugas-7/blob/main/movie_recommendations_py.ipynb\" target=\"_parent\"><img src=\"https://colab.research.google.com/assets/colab-badge.svg\" alt=\"Open In Colab\"/></a>"
      ]
    },
    {
      "cell_type": "code",
      "execution_count": 1,
      "metadata": {
        "id": "fABP3G6SlrE7",
        "colab": {
          "base_uri": "https://localhost:8080/"
        },
        "outputId": "d195e835-e66f-4170-8118-9780a6a393bf"
      },
      "outputs": [
        {
          "output_type": "stream",
          "name": "stdout",
          "text": [
            "Mounted at /content/drive\n"
          ]
        }
      ],
      "source": [
        "from google.colab import drive\n",
        "drive.mount('/content/drive')"
      ]
    },
    {
      "cell_type": "code",
      "execution_count": 2,
      "metadata": {
        "colab": {
          "base_uri": "https://localhost:8080/"
        },
        "outputId": "ef98f2ea-0382-4791-a9ab-4973817faeaf",
        "id": "SeG8IsmEoJlc"
      },
      "outputs": [
        {
          "output_type": "stream",
          "name": "stdout",
          "text": [
            "Drive already mounted at /content/drive; to attempt to forcibly remount, call drive.mount(\"/content/drive\", force_remount=True).\n"
          ]
        }
      ],
      "source": [
        "from google.colab import drive\n",
        "drive.mount('/content/drive')"
      ]
    },
    {
      "cell_type": "code",
      "source": [
        "import os\n",
        "os.system(\"rm -rf /content/ml-predictions.csv\")\n",
        "os.system(\"rm -rf /content/mymodel\")"
      ],
      "metadata": {
        "colab": {
          "base_uri": "https://localhost:8080/"
        },
        "outputId": "ae3b155d-e8b7-41f5-d936-e4d99843f310",
        "id": "yGaq_NAMoJld"
      },
      "execution_count": 3,
      "outputs": [
        {
          "output_type": "execute_result",
          "data": {
            "text/plain": [
              "0"
            ]
          },
          "metadata": {},
          "execution_count": 3
        }
      ]
    },
    {
      "cell_type": "code",
      "source": [
        "!pip install pyspark"
      ],
      "metadata": {
        "colab": {
          "base_uri": "https://localhost:8080/"
        },
        "outputId": "486f8063-4a27-4855-f9bb-1d55d00144a3",
        "id": "_zFW-e4doJle"
      },
      "execution_count": 4,
      "outputs": [
        {
          "output_type": "stream",
          "name": "stdout",
          "text": [
            "Looking in indexes: https://pypi.org/simple, https://us-python.pkg.dev/colab-wheels/public/simple/\n",
            "Collecting pyspark\n",
            "  Downloading pyspark-3.4.0.tar.gz (310.8 MB)\n",
            "\u001b[2K     \u001b[90m━━━━━━━━━━━━━━━━━━━━━━━━━━━━━━━━━━━━━━━\u001b[0m \u001b[32m310.8/310.8 MB\u001b[0m \u001b[31m4.9 MB/s\u001b[0m eta \u001b[36m0:00:00\u001b[0m\n",
            "\u001b[?25h  Preparing metadata (setup.py) ... \u001b[?25l\u001b[?25hdone\n",
            "Requirement already satisfied: py4j==0.10.9.7 in /usr/local/lib/python3.10/dist-packages (from pyspark) (0.10.9.7)\n",
            "Building wheels for collected packages: pyspark\n",
            "  Building wheel for pyspark (setup.py) ... \u001b[?25l\u001b[?25hdone\n",
            "  Created wheel for pyspark: filename=pyspark-3.4.0-py2.py3-none-any.whl size=311317130 sha256=bd461f476f85c26d8a808d56b1558e0c3826411355fb32866779f322f1132865\n",
            "  Stored in directory: /root/.cache/pip/wheels/7b/1b/4b/3363a1d04368e7ff0d408e57ff57966fcdf00583774e761327\n",
            "Successfully built pyspark\n",
            "Installing collected packages: pyspark\n",
            "Successfully installed pyspark-3.4.0\n"
          ]
        }
      ]
    },
    {
      "cell_type": "code",
      "source": [
        "from pyspark.sql import SparkSession\n",
        "from pyspark.ml.evaluation import RegressionEvaluator\n",
        "from pyspark.ml.recommendation import ALS\n",
        "from pyspark.sql import Row"
      ],
      "metadata": {
        "id": "hzpO_YI7oJle"
      },
      "execution_count": 5,
      "outputs": []
    },
    {
      "cell_type": "code",
      "source": [
        "# Create a SparkSession\n",
        "spark = SparkSession.builder.getOrCreate()\n",
        "\n",
        "# Read the ratings data from a file\n",
        "lines = spark.read.text(\"/content/drive/MyDrive/Big data/ml-1m/ratings.dat\").rdd\n",
        "\n",
        "# Split each line into fields and create a Row object\n",
        "parts = lines.map(lambda row: row.value.split(\"::\"))\n",
        "ratingsRDD = parts.map(lambda p: Row(userId=int(p[0]), movieId=int(p[1]), rating=float(p[2]), timestamp=int(p[3])))\n",
        "\n",
        "# Create a DataFrame from the RDD\n",
        "ratings = spark.createDataFrame(ratingsRDD)"
      ],
      "metadata": {
        "id": "3BJJWhEkoJle"
      },
      "execution_count": 6,
      "outputs": []
    },
    {
      "cell_type": "code",
      "source": [
        "# Split the data into training and test sets\n",
        "(training, test) = ratings.randomSplit([0.8, 0.2])\n",
        "\n",
        "# Build the recommendation model using ALS on the training data\n",
        "als = ALS(maxIter=5, regParam=0.01, userCol=\"userId\", itemCol=\"movieId\", ratingCol=\"rating\", coldStartStrategy=\"drop\")\n",
        "model = als.fit(training)\n",
        "\n",
        "# Evaluate the model by computing the RMSE on the test data\n",
        "predictions = model.transform(test)\n",
        "predictions.show()\n",
        "\n",
        "# Calculate the RMSE\n",
        "evaluator = RegressionEvaluator(metricName=\"rmse\", labelCol=\"rating\", predictionCol=\"prediction\")\n",
        "rmse = evaluator.evaluate(predictions)\n",
        "print(\"RMSE: \", rmse)"
      ],
      "metadata": {
        "colab": {
          "base_uri": "https://localhost:8080/"
        },
        "id": "4eI38UoPoJle",
        "outputId": "311db7f4-8db1-4a68-fc52-676ebe3eb532"
      },
      "execution_count": 7,
      "outputs": [
        {
          "output_type": "stream",
          "name": "stdout",
          "text": [
            "+------+-------+------+---------+----------+\n",
            "|userId|movieId|rating|timestamp|prediction|\n",
            "+------+-------+------+---------+----------+\n",
            "|   148|     50|   2.0|979577217| 4.1688976|\n",
            "|   148|     95|   3.0|977334026| 3.6745012|\n",
            "|   148|    107|   4.0|979577717| 3.3476396|\n",
            "|   148|    158|   5.0|979578290| 3.3979707|\n",
            "|   148|    160|   2.0|977354338| 3.0817404|\n",
            "|   148|    165|   3.0|977333786|  4.105658|\n",
            "|   148|    173|   3.0|977334225| 3.2034583|\n",
            "|   148|    181|   1.0|977334454| 2.9556699|\n",
            "|   148|    257|   4.0|979578268| 3.3077576|\n",
            "|   148|    260|   5.0|977333254| 4.5606194|\n",
            "|   148|    292|   4.0|977333869| 4.0279317|\n",
            "|   148|    327|   1.0|977334427| 3.3208263|\n",
            "|   148|    332|   3.0|979578850| 3.6227026|\n",
            "|   148|    351|   3.0|977335047|  3.381733|\n",
            "|   148|    370|   4.0|979578765| 3.3040617|\n",
            "|   148|    377|   4.0|977333369|  4.272643|\n",
            "|   148|    379|   5.0|977333890| 3.9711761|\n",
            "|   148|    405|   2.0|977334427| 3.1063077|\n",
            "|   148|    434|   4.0|977333974|  4.013489|\n",
            "|   148|    442|   4.0|977333943| 3.7900584|\n",
            "+------+-------+------+---------+----------+\n",
            "only showing top 20 rows\n",
            "\n",
            "RMSE:  0.8972680498445201\n"
          ]
        }
      ]
    },
    {
      "cell_type": "code",
      "source": [
        "# Calculate the MSE\n",
        "mse = predictions.rdd.map(lambda row: (row['rating'] - row['prediction'])**2).mean()\n",
        "print(\"MSE: \", mse)"
      ],
      "metadata": {
        "colab": {
          "base_uri": "https://localhost:8080/"
        },
        "id": "hisVOSfPoJle",
        "outputId": "2f558b4b-bcd6-4b74-bf7b-1b763d958f21"
      },
      "execution_count": 8,
      "outputs": [
        {
          "output_type": "stream",
          "name": "stdout",
          "text": [
            "MSE:  0.8050899532714969\n"
          ]
        }
      ]
    }
  ]
}