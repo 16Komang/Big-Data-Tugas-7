{
  "nbformat": 4,
  "nbformat_minor": 0,
  "metadata": {
    "colab": {
      "provenance": [],
      "authorship_tag": "ABX9TyNv6yVudMM0e1Hi9fFrsV1l",
      "include_colab_link": true
    },
    "kernelspec": {
      "name": "python3",
      "display_name": "Python 3"
    },
    "language_info": {
      "name": "python"
    }
  },
  "cells": [
    {
      "cell_type": "markdown",
      "metadata": {
        "id": "view-in-github",
        "colab_type": "text"
      },
      "source": [
        "<a href=\"https://colab.research.google.com/github/16Komang/Big-Data-Tugas-7/blob/main/slide48.ipynb\" target=\"_parent\"><img src=\"https://colab.research.google.com/assets/colab-badge.svg\" alt=\"Open In Colab\"/></a>"
      ]
    },
    {
      "cell_type": "code",
      "execution_count": null,
      "metadata": {
        "colab": {
          "base_uri": "https://localhost:8080/"
        },
        "id": "_qoGO19fr7Sj",
        "outputId": "13a53294-5c18-4cef-985d-a5565cbabcce"
      },
      "outputs": [
        {
          "output_type": "stream",
          "name": "stdout",
          "text": [
            "Mounted at /content/drive\n"
          ]
        }
      ],
      "source": [
        "from google.colab import drive\n",
        "drive.mount('/content/drive')"
      ]
    },
    {
      "cell_type": "code",
      "source": [
        "# Install PySpark\n",
        "!pip install pyspark"
      ],
      "metadata": {
        "colab": {
          "base_uri": "https://localhost:8080/"
        },
        "id": "1mRSTkPusU4k",
        "outputId": "f97f4117-c107-46e0-e9df-ee7c0519779a"
      },
      "execution_count": null,
      "outputs": [
        {
          "output_type": "stream",
          "name": "stdout",
          "text": [
            "Looking in indexes: https://pypi.org/simple, https://us-python.pkg.dev/colab-wheels/public/simple/\n",
            "Collecting pyspark\n",
            "  Downloading pyspark-3.4.0.tar.gz (310.8 MB)\n",
            "\u001b[2K     \u001b[90m━━━━━━━━━━━━━━━━━━━━━━━━━━━━━━━━━━━━━━━\u001b[0m \u001b[32m310.8/310.8 MB\u001b[0m \u001b[31m4.6 MB/s\u001b[0m eta \u001b[36m0:00:00\u001b[0m\n",
            "\u001b[?25h  Preparing metadata (setup.py) ... \u001b[?25l\u001b[?25hdone\n",
            "Requirement already satisfied: py4j==0.10.9.7 in /usr/local/lib/python3.10/dist-packages (from pyspark) (0.10.9.7)\n",
            "Building wheels for collected packages: pyspark\n",
            "  Building wheel for pyspark (setup.py) ... \u001b[?25l\u001b[?25hdone\n",
            "  Created wheel for pyspark: filename=pyspark-3.4.0-py2.py3-none-any.whl size=311317130 sha256=d4b2f7ef23aca103739145f601f29baf1daaa26f141dff1e42e6e29849abecdb\n",
            "  Stored in directory: /root/.cache/pip/wheels/7b/1b/4b/3363a1d04368e7ff0d408e57ff57966fcdf00583774e761327\n",
            "Successfully built pyspark\n",
            "Installing collected packages: pyspark\n",
            "Successfully installed pyspark-3.4.0\n"
          ]
        }
      ]
    },
    {
      "cell_type": "code",
      "source": [
        "from tabulate import tabulate\n",
        "from pyspark.mllib.recommendation import ALS, Rating\n",
        "from pyspark.sql import SparkSession"
      ],
      "metadata": {
        "id": "7lg9NXljtDJ0"
      },
      "execution_count": null,
      "outputs": []
    },
    {
      "cell_type": "code",
      "source": [
        "# Create a SparkSession\n",
        "spark = SparkSession.builder.getOrCreate()"
      ],
      "metadata": {
        "id": "KXD5Rnl8WNix"
      },
      "execution_count": null,
      "outputs": []
    },
    {
      "cell_type": "code",
      "source": [
        "# Read the ratings data from a file\n",
        "raw = spark.sparkContext.textFile(\"/content/drive/MyDrive/Big data/ml-1m/ratings.dat\")\n",
        "mydata = [(2, 0.01), (3, 0.02), (4, 0.03)]\n",
        "mydatardd = spark.sparkContext.parallelize(mydata).map(lambda x: Rating(0, x[0], x[1]))"
      ],
      "metadata": {
        "id": "vKCDOiWFW0OZ"
      },
      "execution_count": null,
      "outputs": []
    },
    {
      "cell_type": "code",
      "source": [
        "# Define a function to parse the rating data\n",
        "def parseRating(str):\n",
        "    fields = str.split(\"::\")\n",
        "    assert len(fields) == 4\n",
        "    return Rating(int(fields[0]), int(fields[1]), float(fields[2]))"
      ],
      "metadata": {
        "id": "9zwBirMrW6TZ"
      },
      "execution_count": null,
      "outputs": []
    },
    {
      "cell_type": "code",
      "source": [
        "# Parse the rating data\n",
        "ratings = raw.map(parseRating)\n",
        "totalRatings = ratings.union(mydatardd)"
      ],
      "metadata": {
        "id": "P4OQRz1pXIMZ"
      },
      "execution_count": null,
      "outputs": []
    },
    {
      "cell_type": "code",
      "source": [
        "# Train the ALS model\n",
        "rank = 8\n",
        "numIterations = 5\n",
        "lambda_ = 1.0\n",
        "model = ALS.train(totalRatings, rank, numIterations, lambda_)"
      ],
      "metadata": {
        "id": "MWnWzOamXOke"
      },
      "execution_count": null,
      "outputs": []
    },
    {
      "cell_type": "code",
      "source": [
        "# Get the top 10 recommended products for user 1\n",
        "userId = 1\n",
        "numRecommendations = 10\n",
        "products = model.recommendProducts(userId, numRecommendations)"
      ],
      "metadata": {
        "id": "zV_sWHqgXQ_Q"
      },
      "execution_count": null,
      "outputs": []
    },
    {
      "cell_type": "code",
      "source": [
        "# Convert the products list to an RDD\n",
        "productsRDD = spark.sparkContext.parallelize(products)"
      ],
      "metadata": {
        "id": "JzKYCAo_Xbk6"
      },
      "execution_count": null,
      "outputs": []
    },
    {
      "cell_type": "code",
      "source": [
        "# Load movie data, join with the recommendations, and display the names ordered by ratings\n",
        "movies = spark.read.text(\"/content/drive/MyDrive/Big data/ml-1m/movies.dat\")\n",
        "movieNames = movies.rdd.map(lambda line: line.value.split(\"::\")).map(lambda fields: (int(fields[0]), fields[1]))\n",
        "recommendations = productsRDD.map(lambda rating: (rating.product, rating.rating))\n",
        "movieRecommendations = movieNames.join(recommendations).sortBy(lambda x: -x[1][1])\n",
        "\n",
        "# Prepare the data for tabular display\n",
        "table_data = [(movie_id, movie_title, rating) for movie_id, (movie_title, rating) in movieRecommendations.take(10)]\n",
        "\n",
        "# Display the recommendations in a table\n",
        "headers = [\"Movie ID\", \"Title\", \"Rating\"]\n",
        "table = tabulate(table_data, headers, tablefmt=\"grid\")\n",
        "print(table)"
      ],
      "metadata": {
        "colab": {
          "base_uri": "https://localhost:8080/"
        },
        "id": "SOSguaH-XgbB",
        "outputId": "239c2a39-af3c-4bef-856f-d60dcbb4ba00"
      },
      "execution_count": null,
      "outputs": [
        {
          "output_type": "stream",
          "name": "stdout",
          "text": [
            "+------------+-------------------------------------------+----------+\n",
            "|   Movie ID | Title                                     |   Rating |\n",
            "+============+===========================================+==========+\n",
            "|       3382 | Song of Freedom (1936)                    |  4.4463  |\n",
            "+------------+-------------------------------------------+----------+\n",
            "|        989 | Schlafes Bruder (Brother of Sleep) (1995) |  4.02357 |\n",
            "+------------+-------------------------------------------+----------+\n",
            "|       3233 | Smashing Time (1967)                      |  3.90453 |\n",
            "+------------+-------------------------------------------+----------+\n",
            "|        787 | Gate of Heavenly Peace, The (1995)        |  3.9044  |\n",
            "+------------+-------------------------------------------+----------+\n",
            "|        557 | Mamma Roma (1962)                         |  3.90174 |\n",
            "+------------+-------------------------------------------+----------+\n",
            "|       1830 | Follow the Bitch (1998)                   |  3.90091 |\n",
            "+------------+-------------------------------------------+----------+\n",
            "|       3607 | One Little Indian (1973)                  |  3.85171 |\n",
            "+------------+-------------------------------------------+----------+\n",
            "|       3172 | Ulysses (Ulisse) (1954)                   |  3.83279 |\n",
            "+------------+-------------------------------------------+----------+\n",
            "|       3656 | Lured (1947)                              |  3.79426 |\n",
            "+------------+-------------------------------------------+----------+\n",
            "|       2503 | Apple, The (Sib) (1998)                   |  3.79093 |\n",
            "+------------+-------------------------------------------+----------+\n"
          ]
        }
      ]
    }
  ]
}